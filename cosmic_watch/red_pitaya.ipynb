{
 "cells": [
  {
   "cell_type": "code",
   "execution_count": 1,
   "metadata": {
    "collapsed": true
   },
   "outputs": [],
   "source": [
    "from redpitaya.overlay.mercury import mercury as overlay\n",
    "fpga = overlay()\n",
    "oscs = [fpga.osc(ch, 1.0) for ch in range(2)]"
   ]
  },
  {
   "cell_type": "code",
   "execution_count": 17,
   "metadata": {},
   "outputs": [
    {
     "name": "stdout",
     "output_type": "stream",
     "text": [
      "triggered\n"
     ]
    },
    {
     "data": {
      "image/png": "[encoded data removed]",
      "text/plain": [
       "<matplotlib.figure.Figure at 0xab42af30>"
      ]
     },
     "metadata": {},
     "output_type": "display_data"
    },
    {
     "name": "stdout",
     "output_type": "stream",
     "text": [
      "ctl_sts = 0x0000000c =         12  # control/status        \n",
      "cfg_evn = 0x00000002 =          2  # SW event source select\n",
      "cfg_trg = 0x00000008 =          8  # HW trigger mask       \n",
      "\n",
      "cfg_pre = 0x00001000 =       4096  # delay pre  trigger        \n",
      "cfg_pst = 0x00003000 =      12288  # delay post trigger        \n",
      "sts_pre = 0x03e32448 =   65217608  # status pre  trigger       \n",
      "sts_pst = 0x00003000 =      12288  # status post trigger       \n",
      "\n",
      "cfg_neg = 0x-0000147 =       -327  # negative level     \n",
      "cfg_pos = 0x-0000147 =       -327  # positive level     \n",
      "cfg_edg = 0x00000000 =          0  # edge (0-pos, 1-neg)\n",
      "\n",
      "cfg_dec = 0x00000000 =          0  # decimation factor\n",
      "cfg_shr = 0x00000000 =          0  # shift right      \n",
      "cfg_avg = 0x00000000 =          0  # average enable   \n",
      "cfg_byp = 0x00000000 =          0  # bypass           \n",
      "cfg_faa = 0x00007d93 =      32147  # AA coeficient    \n",
      "cfg_fbb = 0x000437c7 =     276423  # BB coeficient    \n",
      "cfg_fkk = 0x00d9999a =   14260634  # KK coeficient    \n",
      "cfg_fpp = 0x00002666 =       9830  # PP coeficient    \n",
      "\n",
      "None\n"
     ]
    }
   ],
   "source": [
    "import time\n",
    "import numpy as np\n",
    "import matplotlib.pyplot as plt\n",
    "\n",
    "size = oscs[0].buffer_size\n",
    "channels = (0, 1)\n",
    "for ch in oscs:\n",
    "    # data rate decimation \n",
    "    ch.decimation = 1\n",
    "    \n",
    "    # trigger timing [sample periods]\n",
    "    N = ch.buffer_size\n",
    "    ch.trigger_pre  = N//4*1\n",
    "    ch.trigger_post = N//4*3\n",
    "    \n",
    "    ch.sync_src = fpga.sync_src[\"osc0\"]\n",
    "    ch.trig_src = fpga.trig_src[\"osc1\"]\n",
    "    ch.level = [-0.01, -0.01]\n",
    "    ch.edge  = 'pos'\n",
    "    \n",
    "oscs[0].reset()\n",
    "oscs[1].reset()\n",
    "oscs[0].start()\n",
    "oscs[1].start()\n",
    "while (oscs[0].status_run()): pass\n",
    "print('triggered')\n",
    "buff = [oscs[ch].data(size) for ch in channels];\n",
    "plt.plot(buff[0][4000:5000])\n",
    "plt.plot(buff[1][4000:5000])\n",
    "plt.show()\n",
    "\n",
    "print(oscs[0].show_regset())"
   ]
  },
  {
   "cell_type": "code",
   "execution_count": null,
   "metadata": {
    "collapsed": true
   },
   "outputs": [],
   "source": [
    "#Setup realtime monitoring system\n",
    "from bokeh.io import push_notebook, show, output_notebook\n",
    "from bokeh.models import HoverTool, Range1d\n",
    "from bokeh.plotting import figure\n",
    "from bokeh.resources import INLINE \n",
    "output_notebook(resources=INLINE)\n",
    "\n",
    "x = np.arange(size)\n",
    "colors = ('red', 'blue')\n",
    "hover = HoverTool(mode = 'vline', tooltips=[(\"T\", \"@x\"), (\"V\", \"@y\")])\n",
    "tools = \"pan,wheel_zoom,box_zoom,reset,crosshair\"\n",
    "p = figure(plot_height=500, plot_width=900, title=\"oscilloscope\", toolbar_location=\"above\", tools=(tools, hover))\n",
    "p.xaxis.axis_label='time [s]'\n",
    "p.yaxis.axis_label='voltage [V]'\n",
    "p.y_range=Range1d(-1.2, 1.2)\n",
    "r = [p.line(x, buff[i], line_width=1, line_alpha=0.7, color=colors[i]) for i in channels]\n",
    "target = show(p, notebook_handle=True)"
   ]
  },
  {
   "cell_type": "code",
   "execution_count": null,
   "metadata": {},
   "outputs": [],
   "source": [
    "#Define the double trigger\n",
    "def checkThresh(iD,iVal):\n",
    "    #res = list(map(lambda i: i> iVal, iD))\n",
    "    res=np.argwhere(iD > iVal)\n",
    "    res1=[]\n",
    "    if len(res) > 0:\n",
    "        res1.append(res[0])\n",
    "        old  = res1[0]\n",
    "        for pVal in res:\n",
    "            if pVal < old+20:\n",
    "                old = pVal\n",
    "                continue\n",
    "            res1.append(pVal)\n",
    "            old = pVal\n",
    "    return res1\n",
    "    \n",
    "def doublePulse(iD,iVal,dMin=0.001):\n",
    "    res=checkThresh(iD,iVal)\n",
    "    if len(res)  < 2:\n",
    "        return -1\n",
    "    if iD[int(res[-1])+2] < iVal:\n",
    "        return -1\n",
    "    minimum=np.min(iD[int(res[0]):int(res[-1])])\n",
    "    baseline=np.average(iD[0:3000])\n",
    "    if abs(minimum-baseline) > dMin:\n",
    "        return -1\n",
    "    return (res[-1]-res[0])\n",
    "\n",
    "def checkAll(iD0,iVal0,iD1,iVal1):\n",
    "    val0=doublePulse(iD0,iVal0)\n",
    "    val1=doublePulse(iD1,iVal1)\n",
    "    if val0 > 0: \n",
    "        print(\"Double Pulse 0: \",val0)\n",
    "        return val0\n",
    "    if val1 > 0: \n",
    "        print(\"Double Pulse 1: \",val1)\n",
    "        return val1\n",
    "    val0s=checkThresh(iD0,iVal0)\n",
    "    val1s=checkThresh(iD1,iVal1)\n",
    "    if len(val0s) > 0 and len(val1s) > 0 and abs(val0s[0]-val1s[0]) > 0 and abs(val0s[0]- val1s[0]) < 200000 :\n",
    "        print(\"2 DW Events\",abs(val0s[0]- val1s[0]))\n",
    "        return abs(val0s[0]- val1s[0])\n",
    "    return -1"
   ]
  },
  {
   "cell_type": "code",
   "execution_count": null,
   "metadata": {},
   "outputs": [],
   "source": [
    "#Continuously run reading the trigger and writing to text events that pass the trigger\n",
    "while True:\n",
    "    oscs[0].reset()\n",
    "    oscs[1].reset()\n",
    "    oscs[0].start()\n",
    "    oscs[1].start()\n",
    "    while oscs[1].status_run(): pass\n",
    "    buff = [oscs[ch].data(size) for ch in channels];\n",
    "    dt=checkAll(buff[0],-0.022,buff[1],-0.011)\n",
    "    #val0=checkThresh(buff[0],-0.022)\n",
    "    #val1=checkThresh(buff[1],-0.011)\n",
    "    if dt > 0:\n",
    "        with open('synch.txt', 'a+') as f:\n",
    "            for item in buff[0]:\n",
    "                f.write(\"%s,\" % item)\n",
    "            f.write(\"\\t\\t\\t\" % item)\n",
    "            for item in buff[1]:\n",
    "                f.write(\"%s,\" % item)\n",
    "            f.write(\"\\n\" % item)\n",
    "        for i in channels:\n",
    "            r[i].data_source.data['y'] = buff[i]\n",
    "    push_notebook(handle=target)"
   ]
  }
 ],
 "metadata": {
  "kernelspec": {
   "display_name": "Python 3.9.12 ('py3')",
   "language": "python",
   "name": "python3"
  },
  "language_info": {
   "codemirror_mode": {
    "name": "ipython",
    "version": 3
   },
   "file_extension": ".py",
   "mimetype": "text/x-python",
   "name": "python",
   "nbconvert_exporter": "python",
   "pygments_lexer": "ipython3",
   "version": "3.9.12"
  },
  "vscode": {
   "interpreter": {
    "hash": "4958337ffdfbf18c0f5bc4dc2467384e1e4b9adcb14586651812f0f862533725"
   }
  }
 },
 "nbformat": 4,
 "nbformat_minor": 2
}
