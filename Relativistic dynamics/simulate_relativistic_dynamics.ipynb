{
 "cells": [
  {
   "cell_type": "code",
   "execution_count": 1,
   "metadata": {},
   "outputs": [],
   "source": [
    "%matplotlib widget \n",
    "# (If running in vscode) and ensure you have \"ipympl\" module installed in your python environment\n",
    "from ipywidgets import *\n",
    "import numpy as np\n",
    "import matplotlib.pyplot as plt\n",
    "from scipy.integrate import solve_ivp "
   ]
  },
  {
   "cell_type": "code",
   "execution_count": 2,
   "metadata": {},
   "outputs": [],
   "source": [
    "# ------------- CONSTANTS AND PARAMETERS -------------\n",
    "# mostly set to 1 to work in a \"unitless\" regime (so numbers are order 1 in out plots) \n",
    "q = 1.0 # charge\n",
    "E = 1.0 # Electric field E in y direction\n",
    "B = 1.0 # Magnetic field B in z direction\n",
    "h = 1.0 # 2h is the plate separation for velocity selector\n",
    "L = 2.0 # L is length of velocity selector\n",
    "m = 1.0 # mass, set to 1 usually\n",
    "mag_initial_velocity = 1 # magnitude of initial velocity vector\n",
    "\n",
    "# for plotting, sets limits so we can see the detectors\n",
    "plotting_epsilon_x = 0.2\n",
    "plotting_epsilon_y = 0.4"
   ]
  },
  {
   "cell_type": "code",
   "execution_count": 3,
   "metadata": {},
   "outputs": [],
   "source": [
    "def equation_of_motion(t,u,E,B):\n",
    "    # the RHS of \\dot{u} = ... where u = [x,y,v_x,v_y] using the forces present inside the velocity selector\n",
    "    # t is time (not explicitly used here, needed for solve_ivp), \n",
    "    # It is assumed that B = Bz, E = Ey\n",
    "    return np.array([u[2], u[3], (q/m)*B*u[3], (q/m)*(E - B*u[2])])\n",
    "\n",
    "def hit_walls(t,u,E,B):\n",
    "    return np.abs(u[1]) - h # = 0 when wall is hit\n",
    "\n",
    "# For using the scipy solve_ivp event handler\n",
    "hit_walls.terminal = True # stop as soon as we cross |y| = h\n",
    "hit_walls.direction = 1\n",
    "\n",
    "def hit_detector(t,u,E,B):\n",
    "    return u[0] - L # = 0 when detector is hit\n",
    "\n",
    "# For using the scipy solve_ivp event handler\n",
    "hit_detector.terminal = True # stop as soon as we cross x = L\n",
    "hit_detector.direction = 1"
   ]
  },
  {
   "cell_type": "code",
   "execution_count": 4,
   "metadata": {},
   "outputs": [],
   "source": [
    "tmin = 0\n",
    "tmax = 10   # the size you should set this as depends on what you chose your otehr parameters to be. \n",
    "            # Just needs to be \"big enough\", the event handler will make sure you dont waste time integrating too long\n",
    "t = np.linspace(tmin,tmax,250) # increase number of points for \"smoother\" plots\n",
    "\n",
    "# initial solve\n",
    "sol = solve_ivp(equation_of_motion, t_span=(tmin,tmax), y0=[0.0,0.0,1.0,0.0], t_eval=t, args=(E,B), events=(hit_walls, hit_detector))\n",
    "\n",
    "x,y = sol.y[0], sol.y[1]\n",
    "#plt.plot(x,y)"
   ]
  },
  {
   "cell_type": "code",
   "execution_count": 5,
   "metadata": {},
   "outputs": [
    {
     "data": {
      "application/vnd.jupyter.widget-view+json": {
       "model_id": "0c4ef1ae0663424d8226dfe6fae6d5bb",
       "version_major": 2,
       "version_minor": 0
      },
      "text/plain": [
       "Canvas(toolbar=Toolbar(toolitems=[('Home', 'Reset original view', 'home', 'home'), ('Back', 'Back to previous …"
      ]
     },
     "metadata": {},
     "output_type": "display_data"
    },
    {
     "data": {
      "application/vnd.jupyter.widget-view+json": {
       "model_id": "2cbfce03bb8b471fa49e74dd6c052854",
       "version_major": 2,
       "version_minor": 0
      },
      "text/plain": [
       "interactive(children=(FloatSlider(value=1.0, description='E', max=3.0, min=-1.0, step=0.01), FloatSlider(value…"
      ]
     },
     "metadata": {},
     "output_type": "display_data"
    }
   ],
   "source": [
    "# Make plot\n",
    "fig = plt.figure()\n",
    "ax = fig.add_subplot(1, 1, 1)\n",
    "ax.plot(x, y) # Make sure you assign the plot object to a variable\n",
    "\n",
    "xlims = (0,(1+plotting_epsilon_x)*L)\n",
    "ylims = (-(1+plotting_epsilon_y)*h,(1+plotting_epsilon_y)*h)\n",
    "\n",
    "ax.set_xlim(xlims)\n",
    "ax.set_ylim(ylims)\n",
    "\n",
    "# Define a function which updates the plot data when slider changes\n",
    "def update(E = 1.0, B = 1.0, theta=0):\n",
    "    # theta is deviation from x axis for the direction of initial velocity\n",
    "\n",
    "    # Completely redraw the axis data\n",
    "    ax.clear()\n",
    "\n",
    "    vx0 = mag_initial_velocity*np.cos(theta)\n",
    "    vy0 = mag_initial_velocity*np.sin(theta)\n",
    "\n",
    "    sol = solve_ivp(equation_of_motion, t_span=(tmin,tmax), y0=[0.0,0.0,vx0,vy0], t_eval=t, args=(E,B), events=(hit_walls, hit_detector))\n",
    "    x,y = sol.y[0], sol.y[1]\n",
    "\n",
    "    #hit_index = np.argmax(np.logical_or((x >= L) , (np.abs(y) >= h)))\n",
    "    #mask = (x < L) & (np.abs(y) < h) # Only plot when withing the desired bounds\n",
    "\n",
    "    ax.plot(x,y)\n",
    "    ax.set_xlim(xlims)\n",
    "    ax.set_ylim(ylims)\n",
    "\n",
    "    # Reset plot parameters too\n",
    "    plt.xlabel(\"x\")\n",
    "    plt.ylabel(\"y\")\n",
    "    #plt.title(f\"N = {np.sum(total_cut)}\")\n",
    "\n",
    "    fig.canvas.draw_idle()\n",
    "    fig.tight_layout() # Not entirely necessary\n",
    "\n",
    "# You may need to run plt.show() here depending on your jupyter setup\n",
    "#plt.show\n",
    "\n",
    "# Run the interaction\n",
    "interact(update,\n",
    "        E = (-1,3,0.01),\n",
    "        B = (-1,3,0.01),\n",
    "        theta = (-np.pi/2,np.pi/2,0.01)\n",
    "        );"
   ]
  },
  {
   "cell_type": "code",
   "execution_count": null,
   "metadata": {},
   "outputs": [],
   "source": []
  }
 ],
 "metadata": {
  "kernelspec": {
   "display_name": "Python 3.9.12 ('py3')",
   "language": "python",
   "name": "python3"
  },
  "language_info": {
   "codemirror_mode": {
    "name": "ipython",
    "version": 3
   },
   "file_extension": ".py",
   "mimetype": "text/x-python",
   "name": "python",
   "nbconvert_exporter": "python",
   "pygments_lexer": "ipython3",
   "version": "3.9.12"
  },
  "orig_nbformat": 4,
  "vscode": {
   "interpreter": {
    "hash": "4958337ffdfbf18c0f5bc4dc2467384e1e4b9adcb14586651812f0f862533725"
   }
  }
 },
 "nbformat": 4,
 "nbformat_minor": 2
}
