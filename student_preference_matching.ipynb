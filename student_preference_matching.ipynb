{
 "cells": [
  {
   "attachments": {},
   "cell_type": "markdown",
   "metadata": {},
   "source": [
    "# Experiment preference matching\n",
    "\n",
    "Was from Phil's session, which assumes nobody has to do cosmic watch as a primary experiment. Math would need adjusting slightly for other sessions"
   ]
  },
  {
   "cell_type": "code",
   "execution_count": 1,
   "metadata": {},
   "outputs": [],
   "source": [
    "import numpy as np\n",
    "import matplotlib.pyplot as plt"
   ]
  },
  {
   "cell_type": "code",
   "execution_count": 2,
   "metadata": {},
   "outputs": [],
   "source": [
    "# \"0\" corresponds to \"Compton Scattering\", \"10\" corresponds to \"Optical Trapping\" etc\n",
    "experiments = np.array([\"Compton Scattering\", \n",
    "                \"Frank-Hertz\",\n",
    "                \"Relativistic Dynamics\", \n",
    "                \"Pulsed NMR: Spin Echoes\",\n",
    "                \"The Speed and Mean Life of Cosmic-Ray Muons\",\n",
    "                \"Rutherford Scattering\",\n",
    "                \"Optical Emission Spectra of Hydrogenic Atoms\",\n",
    "                \"X-Ray Physics\",\n",
    "                \"Johnson Noise and Shot Noise\",\n",
    "                \"21-cm Radio Astrophysics\",\n",
    "                \"Optical Trapping\"\n",
    "                ])\n",
    "\n",
    "# add the name of one lab partner per group as a means of identifying\n",
    "group_single_members = np.array([\"name1\", \n",
    "                                \"name2\",\n",
    "                                \"name3\",\n",
    "                                \"name4\",\n",
    "                                \"name5\",\n",
    "                                \"name6\"])\n",
    "\n",
    "\n",
    "# Preferences copied from canvas, format explained below (random numbers here by default)\n",
    "preferences = np.array([\n",
    "  [1,6,2,9,3,10,8,5,7,4,11] ,\n",
    "  [7,10,11,1,8,4,3,5,2,6,9] ,\n",
    "  [3,10,4,8,6,2,1,7,5,9,11] ,\n",
    "  [7,5,6,3,1,8,2,9,11,4,10] ,\n",
    "  [4,10,2,9,1,5,6,8,3,11,7] ,\n",
    "  [2,10,1,5,8,4,3,11,9,6,7] ,\n",
    "])\n",
    "\n",
    "num_groups = preferences.shape[0]\n",
    "num_experiments = len(experiments)\n",
    "\n",
    "max_num_groups_per_experiment = 3\n",
    "num_experiments_per_group = 3  # 2 if everyone does cosmic watch"
   ]
  },
  {
   "cell_type": "code",
   "execution_count": 3,
   "metadata": {},
   "outputs": [
    {
     "data": {
      "text/plain": [
       "array([0, 2], dtype=int64)"
      ]
     },
     "execution_count": 3,
     "metadata": {},
     "output_type": "execute_result"
    }
   ],
   "source": [
    "preferences[0].argsort()[:2]"
   ]
  },
  {
   "cell_type": "code",
   "execution_count": 4,
   "metadata": {},
   "outputs": [
    {
     "data": {
      "text/plain": [
       "array([ 1,  6,  2,  9,  3, 10,  8,  5,  7,  4, 11])"
      ]
     },
     "execution_count": 4,
     "metadata": {},
     "output_type": "execute_result"
    }
   ],
   "source": [
    "preferences[0] # the preferences for group 0. \n",
    "\n",
    "# means the \"0th\" experiment (compton scattering) above is their top choice, relativistic dynamics is second "
   ]
  },
  {
   "cell_type": "code",
   "execution_count": 5,
   "metadata": {},
   "outputs": [
    {
     "data": {
      "text/plain": [
       "array([1, 7, 3, 7, 4, 2])"
      ]
     },
     "execution_count": 5,
     "metadata": {},
     "output_type": "execute_result"
    }
   ],
   "source": [
    "preferences[:,0] # the rankings of each group for the compton scattering experiment"
   ]
  },
  {
   "cell_type": "markdown",
   "metadata": {},
   "source": [
    "### Monte Carlo-based Matching approach\n",
    "\n",
    "- First of all, assume nobody does cosmic watch, so we have 3 experiments per group for a match. \n",
    "\n",
    "- Allowed degeneracies: Each experiment can be taken by 3 groups (in fact, compton could in theory be taken by all 6, that is 2 groups at a time in each of the 3 sessions, but we assume this for simplicity). \n",
    "\n",
    "- A \"match\" has format [ [the 3 experiments group 0 will do] , [the 3 experiments group 1 will do] , ...]\n",
    "\n",
    "- We then randomly generate matches, test for how well they work by some metric which we call \"match_goodness\". Run for a while, output the best match you found."
   ]
  },
  {
   "cell_type": "code",
   "execution_count": 6,
   "metadata": {},
   "outputs": [
    {
     "name": "stdout",
     "output_type": "stream",
     "text": [
      "[[0 2 4]\n",
      " [3 8 6]\n",
      " [6 5 0]\n",
      " [4 6 3]\n",
      " [4 2 8]\n",
      " [2 0 6]]\n"
     ]
    }
   ],
   "source": [
    "# check if we have to do any work, that is look at everybodies top choices\n",
    "\n",
    "ideals = np.zeros((num_groups,num_experiments_per_group))\n",
    "\n",
    "for i in range(num_groups):\n",
    "    indices_ideal_experiments = preferences[i].argsort()[:num_experiments_per_group]  # indices of two smallest values (highest preference)\n",
    "    ideals[i] = indices_ideal_experiments\n",
    "\n",
    "ideals = ideals.astype(\"int\") # sorting messes it up a bit\n",
    "\n",
    "print(ideals)"
   ]
  },
  {
   "cell_type": "code",
   "execution_count": 7,
   "metadata": {},
   "outputs": [
    {
     "name": "stdout",
     "output_type": "stream",
     "text": [
      "More than 3 groups want the same experiment\n",
      "Occurrences:  [3 0 3 2 3 1 4 0 2]\n",
      "most \"problematic\" experiment is 6, Optical Emission Spectra of Hydrogenic Atoms, with 4 occurrences in the top 3 preference data\n"
     ]
    }
   ],
   "source": [
    "# Check if match is valid\n",
    "occurrences = np.bincount(ideals.flatten()) # format [num occurrences of 0, ...1, ...2, ...]\n",
    "\n",
    "if np.sum(occurrences > max_num_groups_per_experiment) == 0:\n",
    "    print(\"No matching necessary, their preferences work\")\n",
    "else: \n",
    "    print(f\"More than {max_num_groups_per_experiment} groups want the same experiment\")\n",
    "    print(\"Occurrences: \", occurrences)\n",
    "    print(f\"most \\\"problematic\\\" experiment is {np.argmax(occurrences)}, \" + experiments[np.argmax(occurrences)] + f\", with {occurrences.max()} occurrences in the top {num_experiments_per_group} preference data\")"
   ]
  },
  {
   "cell_type": "markdown",
   "metadata": {},
   "source": [
    "### Conclusion\n",
    "No matching algorithm needed. So one person needs to not do experiment 6, maybe replace with 3 or 5 or cosmic watch."
   ]
  },
  {
   "cell_type": "code",
   "execution_count": 8,
   "metadata": {},
   "outputs": [
    {
     "name": "stdout",
     "output_type": "stream",
     "text": [
      "\n",
      "Group 0 (ft. name1) has experiments:\n",
      "['Compton Scattering' 'Relativistic Dynamics'\n",
      " 'The Speed and Mean Life of Cosmic-Ray Muons']\n",
      "\n",
      "Group 1 (ft. name2) has experiments:\n",
      "['Pulsed NMR: Spin Echoes' 'Johnson Noise and Shot Noise'\n",
      " 'Optical Emission Spectra of Hydrogenic Atoms']\n",
      "\n",
      "Group 2 (ft. name3) has experiments:\n",
      "['Optical Emission Spectra of Hydrogenic Atoms' 'Rutherford Scattering'\n",
      " 'Compton Scattering']\n",
      "\n",
      "Group 3 (ft. name4) has experiments:\n",
      "['The Speed and Mean Life of Cosmic-Ray Muons'\n",
      " 'Optical Emission Spectra of Hydrogenic Atoms' 'Pulsed NMR: Spin Echoes']\n",
      "\n",
      "Group 4 (ft. name5) has experiments:\n",
      "['The Speed and Mean Life of Cosmic-Ray Muons' 'Relativistic Dynamics'\n",
      " 'Johnson Noise and Shot Noise']\n",
      "\n",
      "Group 5 (ft. name6) has experiments:\n",
      "['Relativistic Dynamics' 'Compton Scattering'\n",
      " 'Optical Emission Spectra of Hydrogenic Atoms']\n"
     ]
    }
   ],
   "source": [
    "for group_idx in range(num_groups):\n",
    "    print(f\"\\nGroup {group_idx} (ft. {group_single_members[group_idx]}) has experiments:\")\n",
    "    print(experiments[ideals[group_idx]])"
   ]
  },
  {
   "cell_type": "code",
   "execution_count": null,
   "metadata": {},
   "outputs": [],
   "source": []
  }
 ],
 "metadata": {
  "kernelspec": {
   "display_name": "Python 3.10.4 ('jlab')",
   "language": "python",
   "name": "python3"
  },
  "language_info": {
   "codemirror_mode": {
    "name": "ipython",
    "version": 3
   },
   "file_extension": ".py",
   "mimetype": "text/x-python",
   "name": "python",
   "nbconvert_exporter": "python",
   "pygments_lexer": "ipython3",
   "version": "3.9.12"
  },
  "orig_nbformat": 4,
  "vscode": {
   "interpreter": {
    "hash": "267708c44187b099f6720d3af037c85d4eba099c4c6271db93edacec570f181b"
   }
  }
 },
 "nbformat": 4,
 "nbformat_minor": 2
}
